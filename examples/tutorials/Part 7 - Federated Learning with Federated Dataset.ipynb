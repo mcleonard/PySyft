{
 "cells": [
  {
   "cell_type": "markdown",
   "metadata": {},
   "source": [
    "# Part 7 - Federated Learning with FederatedDataset\n",
    "\n",
    "Here we introduce a new tool for using federated datasets. We have created a `FederatedDataset` class which is intended to be used like the PyTorch Dataset class, and is given to a federated data loader `FederatedDataLoader` which will iterate on it in a federated fashion.\n",
    "\n",
    "\n",
    "Authors:\n",
    "- Andrew Trask - Twitter: [@iamtrask](https://twitter.com/iamtrask)\n",
    "- Théo Ryffel - GitHub: [@LaRiffle](https://github.com/LaRiffle)"
   ]
  },
  {
   "cell_type": "markdown",
   "metadata": {},
   "source": [
    "We use the sandbox that we discovered last lesson"
   ]
  },
  {
   "cell_type": "code",
   "execution_count": 1,
   "metadata": {},
   "outputs": [
    {
     "name": "stdout",
     "output_type": "stream",
     "text": [
      "Setting up Sandbox...\n",
      "Done!\n"
     ]
    }
   ],
   "source": [
    "import torch as th\n",
    "import syft as sy\n",
    "sy.create_sandbox(globals(), verbose=False)"
   ]
  },
  {
   "cell_type": "markdown",
   "metadata": {},
   "source": [
    "Then search for a dataset"
   ]
  },
  {
   "cell_type": "code",
   "execution_count": 2,
   "metadata": {},
   "outputs": [],
   "source": [
    "boston_data = grid.search(\"#boston\", \"#data\", verbose=False, return_counter=False)\n",
    "boston_target = grid.search(\"#boston\", \"#target\", verbose=False, return_counter=False)"
   ]
  },
  {
   "cell_type": "markdown",
   "metadata": {},
   "source": [
    "We load a model and an optimizer"
   ]
  },
  {
   "cell_type": "code",
   "execution_count": 3,
   "metadata": {},
   "outputs": [],
   "source": [
    "n_features = boston_data['alice'][0].shape[1]\n",
    "n_targets = 1\n",
    "model = th.nn.Linear(n_features, n_targets)\n",
    "optimizer = sy.optim.SGD(params=model.parameters(),lr=0.0000001)"
   ]
  },
  {
   "cell_type": "markdown",
   "metadata": {},
   "source": [
    "Here we cast the data fetched in a `FederatedDataset`. See the workers which hold part of the data."
   ]
  },
  {
   "cell_type": "code",
   "execution_count": 4,
   "metadata": {},
   "outputs": [
    {
     "name": "stdout",
     "output_type": "stream",
     "text": [
      "['andy', 'jon', 'jason', 'alice', 'theo', 'bob']\n"
     ]
    }
   ],
   "source": [
    "dataset = sy.FederatedDataset(boston_data, boston_target)\n",
    "print(dataset.workers)"
   ]
  },
  {
   "cell_type": "markdown",
   "metadata": {},
   "source": [
    "We put it in a `FederatedDataLoader` and specify options"
   ]
  },
  {
   "cell_type": "code",
   "execution_count": 5,
   "metadata": {},
   "outputs": [],
   "source": [
    "train_loader = sy.FederatedDataLoader(dataset, batch_size=4, shuffle=False, drop_last=False)"
   ]
  },
  {
   "cell_type": "markdown",
   "metadata": {},
   "source": [
    "And finally we iterate over epochs. You can see how similar this is compared to pure and local PyTorch training!"
   ]
  },
  {
   "cell_type": "code",
   "execution_count": 6,
   "metadata": {
    "scrolled": true
   },
   "outputs": [
    {
     "name": "stdout",
     "output_type": "stream",
     "text": [
      "Train Epoch: 1 [0/506 (0%)]\tLoss: 152888.843750\n",
      "Train Epoch: 1 [80/506 (16%)]\tLoss: 47.237873\n",
      "Train Epoch: 1 [160/506 (31%)]\tLoss: 47.114311\n",
      "Train Epoch: 1 [120/506 (47%)]\tLoss: 161.408859\n",
      "Train Epoch: 1 [160/506 (63%)]\tLoss: 844.387695\n",
      "Train Epoch: 1 [200/506 (79%)]\tLoss: 484.564301\n",
      "Train Epoch: 1 [240/506 (94%)]\tLoss: 959.240845\n",
      "Total loss 674460.4256253242\n",
      "Train Epoch: 2 [0/506 (0%)]\tLoss: 55.059036\n",
      "Train Epoch: 2 [40/506 (16%)]\tLoss: 15.003867\n",
      "Train Epoch: 2 [80/506 (31%)]\tLoss: 4.081099\n",
      "Train Epoch: 2 [120/506 (47%)]\tLoss: 156.740128\n",
      "Train Epoch: 2 [160/506 (63%)]\tLoss: 805.886414\n",
      "Train Epoch: 2 [200/506 (79%)]\tLoss: 431.625916\n",
      "Train Epoch: 2 [240/506 (94%)]\tLoss: 876.295532\n",
      "Total loss 55584.03962612152\n",
      "Train Epoch: 3 [0/506 (0%)]\tLoss: 64.620346\n",
      "Train Epoch: 3 [40/506 (16%)]\tLoss: 31.565498\n",
      "Train Epoch: 3 [80/506 (31%)]\tLoss: 7.327630\n",
      "Train Epoch: 3 [120/506 (47%)]\tLoss: 154.782333\n",
      "Train Epoch: 3 [160/506 (63%)]\tLoss: 774.466187\n",
      "Train Epoch: 3 [200/506 (79%)]\tLoss: 398.988159\n",
      "Train Epoch: 3 [240/506 (94%)]\tLoss: 806.392334\n",
      "Total loss 53814.22805428505\n",
      "Train Epoch: 4 [0/506 (0%)]\tLoss: 69.800522\n",
      "Train Epoch: 4 [40/506 (16%)]\tLoss: 47.763268\n",
      "Train Epoch: 4 [80/506 (31%)]\tLoss: 10.251503\n",
      "Train Epoch: 4 [120/506 (47%)]\tLoss: 151.441666\n",
      "Train Epoch: 4 [160/506 (63%)]\tLoss: 746.693420\n",
      "Train Epoch: 4 [200/506 (79%)]\tLoss: 377.312561\n",
      "Train Epoch: 4 [240/506 (94%)]\tLoss: 745.725525\n",
      "Total loss 52499.96590900421\n",
      "Train Epoch: 5 [0/506 (0%)]\tLoss: 71.887512\n",
      "Train Epoch: 5 [40/506 (16%)]\tLoss: 60.062889\n",
      "Train Epoch: 5 [80/506 (31%)]\tLoss: 11.897557\n",
      "Train Epoch: 5 [120/506 (47%)]\tLoss: 147.355499\n",
      "Train Epoch: 5 [160/506 (63%)]\tLoss: 721.586670\n",
      "Train Epoch: 5 [200/506 (79%)]\tLoss: 361.873474\n",
      "Train Epoch: 5 [240/506 (94%)]\tLoss: 691.929504\n",
      "Total loss 51416.82617473602\n",
      "Train Epoch: 6 [0/506 (0%)]\tLoss: 71.957825\n",
      "Train Epoch: 6 [40/506 (16%)]\tLoss: 68.449203\n",
      "Train Epoch: 6 [80/506 (31%)]\tLoss: 12.402803\n",
      "Train Epoch: 6 [120/506 (47%)]\tLoss: 142.923004\n",
      "Train Epoch: 6 [160/506 (63%)]\tLoss: 698.517883\n",
      "Train Epoch: 6 [200/506 (79%)]\tLoss: 350.135376\n",
      "Train Epoch: 6 [240/506 (94%)]\tLoss: 643.501282\n",
      "Total loss 50468.37476682663\n",
      "Train Epoch: 7 [0/506 (0%)]\tLoss: 70.785133\n",
      "Train Epoch: 7 [40/506 (16%)]\tLoss: 73.797287\n",
      "Train Epoch: 7 [80/506 (31%)]\tLoss: 12.127371\n",
      "Train Epoch: 7 [120/506 (47%)]\tLoss: 138.388519\n",
      "Train Epoch: 7 [160/506 (63%)]\tLoss: 677.075989\n",
      "Train Epoch: 7 [200/506 (79%)]\tLoss: 340.683685\n",
      "Train Epoch: 7 [240/506 (94%)]\tLoss: 599.450195\n",
      "Total loss 49611.103224277496\n",
      "Train Epoch: 8 [0/506 (0%)]\tLoss: 68.888184\n",
      "Train Epoch: 8 [40/506 (16%)]\tLoss: 77.011574\n",
      "Train Epoch: 8 [80/506 (31%)]\tLoss: 11.392808\n",
      "Train Epoch: 8 [120/506 (47%)]\tLoss: 133.898163\n",
      "Train Epoch: 8 [160/506 (63%)]\tLoss: 656.987488\n",
      "Train Epoch: 8 [200/506 (79%)]\tLoss: 332.702850\n",
      "Train Epoch: 8 [240/506 (94%)]\tLoss: 559.099976\n",
      "Total loss 48823.76667737961\n",
      "Train Epoch: 9 [0/506 (0%)]\tLoss: 66.600998\n",
      "Train Epoch: 9 [40/506 (16%)]\tLoss: 78.802414\n",
      "Train Epoch: 9 [80/506 (31%)]\tLoss: 10.429382\n",
      "Train Epoch: 9 [120/506 (47%)]\tLoss: 129.535110\n",
      "Train Epoch: 9 [160/506 (63%)]\tLoss: 638.063110\n",
      "Train Epoch: 9 [200/506 (79%)]\tLoss: 325.709717\n",
      "Train Epoch: 9 [240/506 (94%)]\tLoss: 521.966675\n",
      "Total loss 48094.77253866196\n",
      "Train Epoch: 10 [0/506 (0%)]\tLoss: 64.132866\n",
      "Train Epoch: 10 [40/506 (16%)]\tLoss: 79.672661\n",
      "Train Epoch: 10 [80/506 (31%)]\tLoss: 9.386060\n",
      "Train Epoch: 10 [120/506 (47%)]\tLoss: 125.345566\n",
      "Train Epoch: 10 [160/506 (63%)]\tLoss: 620.168579\n",
      "Train Epoch: 10 [200/506 (79%)]\tLoss: 319.411346\n",
      "Train Epoch: 10 [240/506 (94%)]\tLoss: 487.688354\n",
      "Total loss 47416.90309762955\n"
     ]
    }
   ],
   "source": [
    "epochs = 10\n",
    "for epoch in range(1, epochs + 1):\n",
    "    loss_accum = 0\n",
    "    for batch_idx, (data, target) in enumerate(train_loader):\n",
    "\n",
    "        model.send(data.location)\n",
    "        \n",
    "        optimizer.zero_grad()\n",
    "        pred = model(data)\n",
    "        loss = ((pred - target)**2).sum()\n",
    "        loss.backward()\n",
    "        optimizer.step(data.shape[0])\n",
    "        \n",
    "        model.get()\n",
    "        loss = loss.get()\n",
    "        \n",
    "        loss_accum += float(loss)\n",
    "        \n",
    "        if batch_idx % 20 == 0:\n",
    "            print('Train Epoch: {} [{}/{} ({:.0f}%)]\\tLoss: {:.6f}'.format(\n",
    "                epoch, batch_idx * data.shape[0], len(train_loader.dataset),\n",
    "                       100. * batch_idx / len(train_loader), loss.item()))\n",
    "            \n",
    "            \n",
    "    print('Total loss', loss_accum)\n"
   ]
  },
  {
   "cell_type": "code",
   "execution_count": null,
   "metadata": {},
   "outputs": [],
   "source": []
  },
  {
   "cell_type": "code",
   "execution_count": null,
   "metadata": {},
   "outputs": [],
   "source": []
  },
  {
   "cell_type": "markdown",
   "metadata": {},
   "source": [
    "# Congratulations!!! - Time to Join the Community!\n",
    "\n",
    "Congratulations on completing this notebook tutorial! If you enjoyed this and would like to join the movement toward privacy preserving, decentralized ownership of AI and the AI supply chain (data), you can do so in the following ways!\n",
    "\n",
    "### Star PySyft on GitHub\n",
    "\n",
    "The easiest way to help our community is just by starring the Repos! This helps raise awareness of the cool tools we're building.\n",
    "\n",
    "- [Star PySyft](https://github.com/OpenMined/PySyft)\n",
    "\n",
    "### Join our Slack!\n",
    "\n",
    "The best way to keep up to date on the latest advancements is to join our community! You can do so by filling out the form at [http://slack.openmined.org](http://slack.openmined.org)\n",
    "\n",
    "### Join a Code Project!\n",
    "\n",
    "The best way to contribute to our community is to become a code contributor! At any time you can go to PySyft GitHub Issues page and filter for \"Projects\". This will show you all the top level Tickets giving an overview of what projects you can join! If you don't want to join a project, but you would like to do a bit of coding, you can also look for more \"one off\" mini-projects by searching for GitHub issues marked \"good first issue\".\n",
    "\n",
    "- [PySyft Projects](https://github.com/OpenMined/PySyft/issues?q=is%3Aopen+is%3Aissue+label%3AProject)\n",
    "- [Good First Issue Tickets](https://github.com/OpenMined/PySyft/issues?q=is%3Aopen+is%3Aissue+label%3A%22good+first+issue%22)\n",
    "\n",
    "### Donate\n",
    "\n",
    "If you don't have time to contribute to our codebase, but would still like to lend support, you can also become a Backer on our Open Collective. All donations go toward our web hosting and other community expenses such as hackathons and meetups!\n",
    "\n",
    "[OpenMined's Open Collective Page](https://opencollective.com/openmined)"
   ]
  },
  {
   "cell_type": "code",
   "execution_count": null,
   "metadata": {},
   "outputs": [],
   "source": []
  }
 ],
 "metadata": {
  "kernelspec": {
   "display_name": "Python 3",
   "language": "python",
   "name": "python3"
  },
  "language_info": {
   "codemirror_mode": {
    "name": "ipython",
    "version": 3
   },
   "file_extension": ".py",
   "mimetype": "text/x-python",
   "name": "python",
   "nbconvert_exporter": "python",
   "pygments_lexer": "ipython3",
   "version": "3.6.1"
  }
 },
 "nbformat": 4,
 "nbformat_minor": 2
}
